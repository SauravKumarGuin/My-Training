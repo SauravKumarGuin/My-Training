{
 "cells": [
  {
   "cell_type": "markdown",
   "id": "3b913f98-1f71-4726-8faf-0cc8fb2875a2",
   "metadata": {},
   "source": [
    "# My Jupyter Notebook on IBM Watson Studio"
   ]
  },
  {
   "cell_type": "markdown",
   "id": "2d9c1b69-645d-4191-8c26-f28e01ab2c22",
   "metadata": {},
   "source": [
    "# **Saurav Kumar Guin**\n",
    "# Researcher"
   ]
  },
  {
   "cell_type": "markdown",
   "id": "7cfbefe0-91f5-4e1a-8ee3-85138852fd89",
   "metadata": {},
   "source": [
    "# *I am interested in data science because I wish to implement it in my research.*"
   ]
  },
  {
   "cell_type": "markdown",
   "id": "132c2ce8-2912-4485-9b22-ab07b5dd55ad",
   "metadata": {},
   "source": [
    "### My code in C5 is supposed to do addition"
   ]
  },
  {
   "cell_type": "code",
   "execution_count": 1,
   "id": "e537e7a0-49f8-4d30-828c-d4e110341a59",
   "metadata": {},
   "outputs": [
    {
     "data": {
      "text/plain": [
       "9"
      ]
     },
     "execution_count": 1,
     "metadata": {},
     "output_type": "execute_result"
    }
   ],
   "source": [
    "5+4"
   ]
  },
  {
   "cell_type": "markdown",
   "id": "de0bf296-9cfb-4c92-8734-87cca4a2b3c4",
   "metadata": {},
   "source": [
    "# Horizontal Rule (Separator)\n",
    "Line 1\n",
    "***\n",
    "Line 2\n",
    "\n",
    "# Numbered List\n",
    "1. Saurav\n",
    "2. Jack\n",
    "3. Tom\n",
    "\n",
    "# "
   ]
  }
 ],
 "metadata": {
  "kernelspec": {
   "display_name": "Python",
   "language": "python",
   "name": "conda-env-python-py"
  },
  "language_info": {
   "codemirror_mode": {
    "name": "ipython",
    "version": 3
   },
   "file_extension": ".py",
   "mimetype": "text/x-python",
   "name": "python",
   "nbconvert_exporter": "python",
   "pygments_lexer": "ipython3",
   "version": "3.7.12"
  }
 },
 "nbformat": 4,
 "nbformat_minor": 5
}
